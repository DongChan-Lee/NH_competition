{
 "cells": [
  {
   "cell_type": "code",
   "execution_count": 1,
   "metadata": {
    "colab": {
     "base_uri": "https://localhost:8080/"
    },
    "id": "42y6ctCnR329",
    "outputId": "c4ed7ca3-a926-4b0e-81e2-4c31a5bbfe0e"
   },
   "outputs": [
    {
     "name": "stdout",
     "output_type": "stream",
     "text": [
      "Mounted at /content/drive\n"
     ]
    }
   ],
   "source": [
    "from google.colab import drive\n",
    "drive.mount('/content/drive')"
   ]
  },
  {
   "cell_type": "code",
   "execution_count": 2,
   "metadata": {
    "id": "5YfWuqJWRQqq"
   },
   "outputs": [],
   "source": [
    "import numpy as np\n",
    "import pandas as pd\n",
    "%matplotlib inline\n",
    "import matplotlib.pyplot as plt\n",
    "import urllib.request\n",
    "from tensorflow.keras.preprocessing.text import Tokenizer\n",
    "from tensorflow.keras.preprocessing.sequence import pad_sequences"
   ]
  },
  {
   "cell_type": "code",
   "execution_count": 3,
   "metadata": {
    "id": "SZPYINuuOrnI"
   },
   "outputs": [],
   "source": [
    "import os\n",
    "os.getcwd()\n",
    "os.chdir('/content/drive/MyDrive/NLP/Dacon_NH competition/data')"
   ]
  },
  {
   "cell_type": "code",
   "execution_count": 4,
   "metadata": {
    "id": "Iljcgm-onO18"
   },
   "outputs": [],
   "source": [
    "data_train = pd.read_csv('news_train.csv')\n",
    "data_test = pd.read_csv('news_test.csv')"
   ]
  },
  {
   "cell_type": "code",
   "execution_count": 5,
   "metadata": {
    "colab": {
     "base_uri": "https://localhost:8080/"
    },
    "id": "31Q92ByFPqXg",
    "outputId": "e7f11077-4056-4f97-a5f6-0d0b51b46531"
   },
   "outputs": [
    {
     "data": {
      "text/plain": [
       "(118745, 6)"
      ]
     },
     "execution_count": 5,
     "metadata": {
      "tags": []
     },
     "output_type": "execute_result"
    }
   ],
   "source": [
    "data_train.shape"
   ]
  },
  {
   "cell_type": "code",
   "execution_count": 6,
   "metadata": {
    "colab": {
     "base_uri": "https://localhost:8080/"
    },
    "id": "3z1X4FtrpNX9",
    "outputId": "62376558-79a4-4254-8e11-856ca2ef171a"
   },
   "outputs": [
    {
     "data": {
      "text/plain": [
       "(142565, 6)"
      ]
     },
     "execution_count": 6,
     "metadata": {
      "tags": []
     },
     "output_type": "execute_result"
    }
   ],
   "source": [
    "data_test.shape"
   ]
  },
  {
   "cell_type": "code",
   "execution_count": 7,
   "metadata": {
    "colab": {
     "base_uri": "https://localhost:8080/",
     "height": 195
    },
    "id": "ZqrnQknoqQnx",
    "outputId": "316b7b6d-6eb5-4d0e-cdf3-2f00594f489c"
   },
   "outputs": [
    {
     "data": {
      "text/html": [
       "<div>\n",
       "<style scoped>\n",
       "    .dataframe tbody tr th:only-of-type {\n",
       "        vertical-align: middle;\n",
       "    }\n",
       "\n",
       "    .dataframe tbody tr th {\n",
       "        vertical-align: top;\n",
       "    }\n",
       "\n",
       "    .dataframe thead th {\n",
       "        text-align: right;\n",
       "    }\n",
       "</style>\n",
       "<table border=\"1\" class=\"dataframe\">\n",
       "  <thead>\n",
       "    <tr style=\"text-align: right;\">\n",
       "      <th></th>\n",
       "      <th>n_id</th>\n",
       "      <th>date</th>\n",
       "      <th>title</th>\n",
       "      <th>content</th>\n",
       "      <th>ord</th>\n",
       "      <th>info</th>\n",
       "    </tr>\n",
       "  </thead>\n",
       "  <tbody>\n",
       "    <tr>\n",
       "      <th>0</th>\n",
       "      <td>NEWS02580</td>\n",
       "      <td>20200605</td>\n",
       "      <td>[마감]코스닥 기관 678억 순매도</td>\n",
       "      <td>[이데일리 MARKETPOINT]15:32 현재 코스닥 기관 678억 순매도</td>\n",
       "      <td>1</td>\n",
       "      <td>0</td>\n",
       "    </tr>\n",
       "    <tr>\n",
       "      <th>1</th>\n",
       "      <td>NEWS02580</td>\n",
       "      <td>20200605</td>\n",
       "      <td>[마감]코스닥 기관 678억 순매도</td>\n",
       "      <td>\"실적기반\" 저가에 매집해야 할 8월 급등유망주 TOP 5 전격공개</td>\n",
       "      <td>2</td>\n",
       "      <td>1</td>\n",
       "    </tr>\n",
       "    <tr>\n",
       "      <th>2</th>\n",
       "      <td>NEWS02580</td>\n",
       "      <td>20200605</td>\n",
       "      <td>[마감]코스닥 기관 678억 순매도</td>\n",
       "      <td>하이스탁론, 선취수수료 없는 월 0.4% 최저금리 상품 출시</td>\n",
       "      <td>3</td>\n",
       "      <td>1</td>\n",
       "    </tr>\n",
       "    <tr>\n",
       "      <th>3</th>\n",
       "      <td>NEWS02580</td>\n",
       "      <td>20200605</td>\n",
       "      <td>[마감]코스닥 기관 678억 순매도</td>\n",
       "      <td>종합 경제정보 미디어 이데일리 - 무단전재 &amp; 재배포 금지</td>\n",
       "      <td>4</td>\n",
       "      <td>0</td>\n",
       "    </tr>\n",
       "    <tr>\n",
       "      <th>4</th>\n",
       "      <td>NEWS09727</td>\n",
       "      <td>20200626</td>\n",
       "      <td>롯데·공영 등 7개 TV 홈쇼핑들, 동행세일 동참</td>\n",
       "      <td>전국적인 소비 붐 조성에 기여할 예정</td>\n",
       "      <td>1</td>\n",
       "      <td>0</td>\n",
       "    </tr>\n",
       "  </tbody>\n",
       "</table>\n",
       "</div>"
      ],
      "text/plain": [
       "        n_id      date  ... ord info\n",
       "0  NEWS02580  20200605  ...   1    0\n",
       "1  NEWS02580  20200605  ...   2    1\n",
       "2  NEWS02580  20200605  ...   3    1\n",
       "3  NEWS02580  20200605  ...   4    0\n",
       "4  NEWS09727  20200626  ...   1    0\n",
       "\n",
       "[5 rows x 6 columns]"
      ]
     },
     "execution_count": 7,
     "metadata": {
      "tags": []
     },
     "output_type": "execute_result"
    }
   ],
   "source": [
    "data_train.head()    "
   ]
  },
  {
   "cell_type": "code",
   "execution_count": 8,
   "metadata": {
    "colab": {
     "base_uri": "https://localhost:8080/",
     "height": 279
    },
    "id": "fcFRYQsWQlsO",
    "outputId": "e8941c7b-2a3b-47e3-e184-bf1b23d9a7cb"
   },
   "outputs": [
    {
     "data": {
      "text/html": [
       "<div>\n",
       "<style scoped>\n",
       "    .dataframe tbody tr th:only-of-type {\n",
       "        vertical-align: middle;\n",
       "    }\n",
       "\n",
       "    .dataframe tbody tr th {\n",
       "        vertical-align: top;\n",
       "    }\n",
       "\n",
       "    .dataframe thead th {\n",
       "        text-align: right;\n",
       "    }\n",
       "</style>\n",
       "<table border=\"1\" class=\"dataframe\">\n",
       "  <thead>\n",
       "    <tr style=\"text-align: right;\">\n",
       "      <th></th>\n",
       "      <th>n_id</th>\n",
       "      <th>date</th>\n",
       "      <th>title</th>\n",
       "      <th>content</th>\n",
       "      <th>ord</th>\n",
       "      <th>id</th>\n",
       "    </tr>\n",
       "  </thead>\n",
       "  <tbody>\n",
       "    <tr>\n",
       "      <th>0</th>\n",
       "      <td>NEWS00237</td>\n",
       "      <td>20200118</td>\n",
       "      <td>[주목!e스몰캡]코세스, 마이크로LED 시장 개화 최대수혜 기대</td>\n",
       "      <td>마이크로 LED TV 장비 양산 돌입- 전방업체 투자 확대로 본업도 호조연일 '신고가'</td>\n",
       "      <td>1</td>\n",
       "      <td>NEWS00237_1</td>\n",
       "    </tr>\n",
       "    <tr>\n",
       "      <th>1</th>\n",
       "      <td>NEWS00237</td>\n",
       "      <td>20200118</td>\n",
       "      <td>[주목!e스몰캡]코세스, 마이크로LED 시장 개화 최대수혜 기대</td>\n",
       "      <td>[이데일리 김대웅 기자] 반도체 장비 업체 코세스(089890)의 기술력이 마이크로...</td>\n",
       "      <td>2</td>\n",
       "      <td>NEWS00237_2</td>\n",
       "    </tr>\n",
       "    <tr>\n",
       "      <th>2</th>\n",
       "      <td>NEWS00237</td>\n",
       "      <td>20200118</td>\n",
       "      <td>[주목!e스몰캡]코세스, 마이크로LED 시장 개화 최대수혜 기대</td>\n",
       "      <td>최근 대형 업체들과 거래를 맺고 관련 장비들의 양산에 돌입하면서 주가도 연일 신고가...</td>\n",
       "      <td>3</td>\n",
       "      <td>NEWS00237_3</td>\n",
       "    </tr>\n",
       "    <tr>\n",
       "      <th>3</th>\n",
       "      <td>NEWS00237</td>\n",
       "      <td>20200118</td>\n",
       "      <td>[주목!e스몰캡]코세스, 마이크로LED 시장 개화 최대수혜 기대</td>\n",
       "      <td>TV를 필두로 올해부터 마이크로 LED의 시대가 본격적으로 개화할 것으로 예상되면서...</td>\n",
       "      <td>4</td>\n",
       "      <td>NEWS00237_4</td>\n",
       "    </tr>\n",
       "    <tr>\n",
       "      <th>4</th>\n",
       "      <td>NEWS00237</td>\n",
       "      <td>20200118</td>\n",
       "      <td>[주목!e스몰캡]코세스, 마이크로LED 시장 개화 최대수혜 기대</td>\n",
       "      <td>코세스는 반도체 장비를 제조, 판매하는 업체로 지난 2006년 11월 코스닥 시장에...</td>\n",
       "      <td>5</td>\n",
       "      <td>NEWS00237_5</td>\n",
       "    </tr>\n",
       "  </tbody>\n",
       "</table>\n",
       "</div>"
      ],
      "text/plain": [
       "        n_id      date  ... ord           id\n",
       "0  NEWS00237  20200118  ...   1  NEWS00237_1\n",
       "1  NEWS00237  20200118  ...   2  NEWS00237_2\n",
       "2  NEWS00237  20200118  ...   3  NEWS00237_3\n",
       "3  NEWS00237  20200118  ...   4  NEWS00237_4\n",
       "4  NEWS00237  20200118  ...   5  NEWS00237_5\n",
       "\n",
       "[5 rows x 6 columns]"
      ]
     },
     "execution_count": 8,
     "metadata": {
      "tags": []
     },
     "output_type": "execute_result"
    }
   ],
   "source": [
    "data_test.head()"
   ]
  },
  {
   "cell_type": "markdown",
   "metadata": {
    "id": "pGaVVmYTQuH5"
   },
   "source": [
    "1. n_id와 ord 결합 -> id\n",
    "2. date, title 필요?\n",
    "3. info는 Y"
   ]
  },
  {
   "cell_type": "code",
   "execution_count": 9,
   "metadata": {
    "colab": {
     "base_uri": "https://localhost:8080/",
     "height": 195
    },
    "id": "v5NV295mq5LM",
    "outputId": "94a74c21-a476-46ae-a4d9-925e1bb2ad26"
   },
   "outputs": [
    {
     "data": {
      "text/html": [
       "<div>\n",
       "<style scoped>\n",
       "    .dataframe tbody tr th:only-of-type {\n",
       "        vertical-align: middle;\n",
       "    }\n",
       "\n",
       "    .dataframe tbody tr th {\n",
       "        vertical-align: top;\n",
       "    }\n",
       "\n",
       "    .dataframe thead th {\n",
       "        text-align: right;\n",
       "    }\n",
       "</style>\n",
       "<table border=\"1\" class=\"dataframe\">\n",
       "  <thead>\n",
       "    <tr style=\"text-align: right;\">\n",
       "      <th></th>\n",
       "      <th>n_id</th>\n",
       "      <th>title</th>\n",
       "      <th>content</th>\n",
       "      <th>info</th>\n",
       "    </tr>\n",
       "  </thead>\n",
       "  <tbody>\n",
       "    <tr>\n",
       "      <th>0</th>\n",
       "      <td>NEWS02580</td>\n",
       "      <td>[마감]코스닥 기관 678억 순매도</td>\n",
       "      <td>[이데일리 MARKETPOINT]15:32 현재 코스닥 기관 678억 순매도</td>\n",
       "      <td>0</td>\n",
       "    </tr>\n",
       "    <tr>\n",
       "      <th>1</th>\n",
       "      <td>NEWS02580</td>\n",
       "      <td>[마감]코스닥 기관 678억 순매도</td>\n",
       "      <td>\"실적기반\" 저가에 매집해야 할 8월 급등유망주 TOP 5 전격공개</td>\n",
       "      <td>1</td>\n",
       "    </tr>\n",
       "    <tr>\n",
       "      <th>2</th>\n",
       "      <td>NEWS02580</td>\n",
       "      <td>[마감]코스닥 기관 678억 순매도</td>\n",
       "      <td>하이스탁론, 선취수수료 없는 월 0.4% 최저금리 상품 출시</td>\n",
       "      <td>1</td>\n",
       "    </tr>\n",
       "    <tr>\n",
       "      <th>3</th>\n",
       "      <td>NEWS02580</td>\n",
       "      <td>[마감]코스닥 기관 678억 순매도</td>\n",
       "      <td>종합 경제정보 미디어 이데일리 - 무단전재 &amp; 재배포 금지</td>\n",
       "      <td>0</td>\n",
       "    </tr>\n",
       "    <tr>\n",
       "      <th>4</th>\n",
       "      <td>NEWS09727</td>\n",
       "      <td>롯데·공영 등 7개 TV 홈쇼핑들, 동행세일 동참</td>\n",
       "      <td>전국적인 소비 붐 조성에 기여할 예정</td>\n",
       "      <td>0</td>\n",
       "    </tr>\n",
       "  </tbody>\n",
       "</table>\n",
       "</div>"
      ],
      "text/plain": [
       "        n_id  ... info\n",
       "0  NEWS02580  ...    0\n",
       "1  NEWS02580  ...    1\n",
       "2  NEWS02580  ...    1\n",
       "3  NEWS02580  ...    0\n",
       "4  NEWS09727  ...    0\n",
       "\n",
       "[5 rows x 4 columns]"
      ]
     },
     "execution_count": 9,
     "metadata": {
      "tags": []
     },
     "output_type": "execute_result"
    }
   ],
   "source": [
    "# 불필요 열 삭제\n",
    "del data_train['date']\n",
    "del data_train['ord']\n",
    "\n",
    "\n",
    "del data_test['date']\n",
    "del data_test['ord']\n",
    "\n",
    "\n",
    "data_train[:5]"
   ]
  },
  {
   "cell_type": "code",
   "execution_count": 10,
   "metadata": {
    "colab": {
     "base_uri": "https://localhost:8080/",
     "height": 279
    },
    "id": "pmZPySz4aZYh",
    "outputId": "42622e42-2d59-4155-f722-ade15be6c0ff"
   },
   "outputs": [
    {
     "data": {
      "text/html": [
       "<div>\n",
       "<style scoped>\n",
       "    .dataframe tbody tr th:only-of-type {\n",
       "        vertical-align: middle;\n",
       "    }\n",
       "\n",
       "    .dataframe tbody tr th {\n",
       "        vertical-align: top;\n",
       "    }\n",
       "\n",
       "    .dataframe thead th {\n",
       "        text-align: right;\n",
       "    }\n",
       "</style>\n",
       "<table border=\"1\" class=\"dataframe\">\n",
       "  <thead>\n",
       "    <tr style=\"text-align: right;\">\n",
       "      <th></th>\n",
       "      <th>n_id</th>\n",
       "      <th>title</th>\n",
       "      <th>content</th>\n",
       "      <th>id</th>\n",
       "    </tr>\n",
       "  </thead>\n",
       "  <tbody>\n",
       "    <tr>\n",
       "      <th>0</th>\n",
       "      <td>NEWS00237</td>\n",
       "      <td>[주목!e스몰캡]코세스, 마이크로LED 시장 개화 최대수혜 기대</td>\n",
       "      <td>마이크로 LED TV 장비 양산 돌입- 전방업체 투자 확대로 본업도 호조연일 '신고가'</td>\n",
       "      <td>NEWS00237_1</td>\n",
       "    </tr>\n",
       "    <tr>\n",
       "      <th>1</th>\n",
       "      <td>NEWS00237</td>\n",
       "      <td>[주목!e스몰캡]코세스, 마이크로LED 시장 개화 최대수혜 기대</td>\n",
       "      <td>[이데일리 김대웅 기자] 반도체 장비 업체 코세스(089890)의 기술력이 마이크로...</td>\n",
       "      <td>NEWS00237_2</td>\n",
       "    </tr>\n",
       "    <tr>\n",
       "      <th>2</th>\n",
       "      <td>NEWS00237</td>\n",
       "      <td>[주목!e스몰캡]코세스, 마이크로LED 시장 개화 최대수혜 기대</td>\n",
       "      <td>최근 대형 업체들과 거래를 맺고 관련 장비들의 양산에 돌입하면서 주가도 연일 신고가...</td>\n",
       "      <td>NEWS00237_3</td>\n",
       "    </tr>\n",
       "    <tr>\n",
       "      <th>3</th>\n",
       "      <td>NEWS00237</td>\n",
       "      <td>[주목!e스몰캡]코세스, 마이크로LED 시장 개화 최대수혜 기대</td>\n",
       "      <td>TV를 필두로 올해부터 마이크로 LED의 시대가 본격적으로 개화할 것으로 예상되면서...</td>\n",
       "      <td>NEWS00237_4</td>\n",
       "    </tr>\n",
       "    <tr>\n",
       "      <th>4</th>\n",
       "      <td>NEWS00237</td>\n",
       "      <td>[주목!e스몰캡]코세스, 마이크로LED 시장 개화 최대수혜 기대</td>\n",
       "      <td>코세스는 반도체 장비를 제조, 판매하는 업체로 지난 2006년 11월 코스닥 시장에...</td>\n",
       "      <td>NEWS00237_5</td>\n",
       "    </tr>\n",
       "  </tbody>\n",
       "</table>\n",
       "</div>"
      ],
      "text/plain": [
       "        n_id  ...           id\n",
       "0  NEWS00237  ...  NEWS00237_1\n",
       "1  NEWS00237  ...  NEWS00237_2\n",
       "2  NEWS00237  ...  NEWS00237_3\n",
       "3  NEWS00237  ...  NEWS00237_4\n",
       "4  NEWS00237  ...  NEWS00237_5\n",
       "\n",
       "[5 rows x 4 columns]"
      ]
     },
     "execution_count": 10,
     "metadata": {
      "tags": []
     },
     "output_type": "execute_result"
    }
   ],
   "source": [
    "data_test[:5]"
   ]
  },
  {
   "cell_type": "code",
   "execution_count": 11,
   "metadata": {
    "colab": {
     "base_uri": "https://localhost:8080/"
    },
    "id": "5XkWSc_YtAIs",
    "outputId": "567a2336-dec7-4b14-cda3-cc2d6cb9c8fb"
   },
   "outputs": [
    {
     "name": "stdout",
     "output_type": "stream",
     "text": [
      "<class 'pandas.core.frame.DataFrame'>\n",
      "RangeIndex: 118745 entries, 0 to 118744\n",
      "Data columns (total 4 columns):\n",
      " #   Column   Non-Null Count   Dtype \n",
      "---  ------   --------------   ----- \n",
      " 0   n_id     118745 non-null  object\n",
      " 1   title    118745 non-null  object\n",
      " 2   content  118745 non-null  object\n",
      " 3   info     118745 non-null  int64 \n",
      "dtypes: int64(1), object(3)\n",
      "memory usage: 3.6+ MB\n",
      "<class 'pandas.core.frame.DataFrame'>\n",
      "RangeIndex: 142565 entries, 0 to 142564\n",
      "Data columns (total 4 columns):\n",
      " #   Column   Non-Null Count   Dtype \n",
      "---  ------   --------------   ----- \n",
      " 0   n_id     142565 non-null  object\n",
      " 1   title    142565 non-null  object\n",
      " 2   content  142565 non-null  object\n",
      " 3   id       142565 non-null  object\n",
      "dtypes: object(4)\n",
      "memory usage: 4.4+ MB\n"
     ]
    }
   ],
   "source": [
    "# Null값 확인\n",
    "data_train.info()\n",
    "data_test.info()"
   ]
  },
  {
   "cell_type": "code",
   "execution_count": 12,
   "metadata": {
    "colab": {
     "base_uri": "https://localhost:8080/"
    },
    "id": "xm-7cxsev4tN",
    "outputId": "edb62005-f89a-4252-eac3-4481245470a9"
   },
   "outputs": [
    {
     "data": {
      "text/plain": [
       "76738"
      ]
     },
     "execution_count": 12,
     "metadata": {
      "tags": []
     },
     "output_type": "execute_result"
    }
   ],
   "source": [
    "# unique 를 통해 중복되는 값 삭제 -> (먼저 duplicates로 중복값 있는지 확인!) drop_duplicates() 사용 \n",
    "# data_train['title'].unique(), data_train['content'].unique(), data_train['info'].unique, data_train['n_id'] \n",
    "# data_test['title'].unique(), data_test['content'].unique(), data_test['n_id']\n",
    "\n",
    "# np.sum(data_train.duplicated(['content']))\n",
    "# np.sum(data_train.duplicated(['content', 'info']))\n",
    "np.sum(data_test.duplicated(['content']))"
   ]
  },
  {
   "cell_type": "code",
   "execution_count": 44,
   "metadata": {
    "colab": {
     "base_uri": "https://localhost:8080/"
    },
    "id": "JGbyCnPXaLZe",
    "outputId": "1336f827-b4b8-4775-ce73-eaef0d328084"
   },
   "outputs": [
    {
     "data": {
      "text/plain": [
       "{43736, 50772, 50774}"
      ]
     },
     "execution_count": 44,
     "metadata": {
      "tags": []
     },
     "output_type": "execute_result"
    }
   ],
   "source": [
    "set(data_train[data_train.duplicated(['content'])].index) - set(data_train[data_train.duplicated(['content', 'info'])].index)"
   ]
  },
  {
   "cell_type": "code",
   "execution_count": 14,
   "metadata": {
    "colab": {
     "base_uri": "https://localhost:8080/"
    },
    "id": "VOr3zZN4bnRg",
    "outputId": "e452ff1d-9b52-41ba-fd94-8ac91d6e7de7"
   },
   "outputs": [
    {
     "data": {
      "text/plain": [
       "(46161, 4)"
      ]
     },
     "execution_count": 14,
     "metadata": {
      "tags": []
     },
     "output_type": "execute_result"
    }
   ],
   "source": [
    "data_train.drop_duplicates(['content'], inplace=True)\n",
    "data_train.shape"
   ]
  },
  {
   "cell_type": "code",
   "execution_count": 15,
   "metadata": {
    "colab": {
     "base_uri": "https://localhost:8080/"
    },
    "id": "nOqvP-FzipXe",
    "outputId": "8e55f6e0-14c9-47e1-96e8-286c7a132fc4"
   },
   "outputs": [
    {
     "data": {
      "text/plain": [
       "(65827, 4)"
      ]
     },
     "execution_count": 15,
     "metadata": {
      "tags": []
     },
     "output_type": "execute_result"
    }
   ],
   "source": [
    "data_test.drop_duplicates(['content'], inplace=True)\n",
    "data_test.shape"
   ]
  },
  {
   "cell_type": "code",
   "execution_count": 16,
   "metadata": {
    "colab": {
     "base_uri": "https://localhost:8080/",
     "height": 262
    },
    "id": "IOofavEvwtzj",
    "outputId": "677e99f8-22a0-4fae-af9c-985fb091f1b1"
   },
   "outputs": [
    {
     "data": {
      "image/png": "[encoded data removed]",
      "text/plain": [
       "<Figure size 432x288 with 1 Axes>"
      ]
     },
     "metadata": {
      "needs_background": "light",
      "tags": []
     },
     "output_type": "display_data"
    }
   ],
   "source": [
    "data_train['info'].value_counts().plot(kind='bar');"
   ]
  },
  {
   "cell_type": "code",
   "execution_count": 17,
   "metadata": {
    "colab": {
     "base_uri": "https://localhost:8080/"
    },
    "id": "c_jWieaxxUJJ",
    "outputId": "99183788-ca7b-483b-efe7-d4221b5aa332"
   },
   "outputs": [
    {
     "name": "stdout",
     "output_type": "stream",
     "text": [
      "   info  count\n",
      "0     0  40370\n",
      "1     1   5791\n"
     ]
    }
   ],
   "source": [
    "# 1(가짜뉴스) 데이터와 0(일반) 데이터 count 함수로 파악  \n",
    "print(data_train.groupby('info').size().reset_index(name='count'))"
   ]
  },
  {
   "cell_type": "code",
   "execution_count": 18,
   "metadata": {
    "colab": {
     "base_uri": "https://localhost:8080/"
    },
    "id": "_6wy2E01xlmY",
    "outputId": "e0967996-6a67-4bad-ec11-e4837def7ce4"
   },
   "outputs": [
    {
     "name": "stdout",
     "output_type": "stream",
     "text": [
      "메일 본문의 개수:46161\n",
      "레이블의 개수:46161\n"
     ]
    }
   ],
   "source": [
    "# 메일 본문과 레이블의 개수 파악\n",
    "Train_x_data=data_train['content']\n",
    "Train_y_data=data_train['info']\n",
    "\n",
    "Test_x_data=data_test['content']\n",
    "print('메일 본문의 개수:{}'.format(len(Train_x_data)))\n",
    "print('레이블의 개수:{}'.format(len(Train_y_data)))"
   ]
  },
  {
   "cell_type": "code",
   "execution_count": 19,
   "metadata": {
    "colab": {
     "base_uri": "https://localhost:8080/"
    },
    "id": "17zwabHlhn0h",
    "outputId": "46c63ac9-8ad5-496f-8e1f-150eaae73484"
   },
   "outputs": [
    {
     "data": {
      "text/plain": [
       "0         0\n",
       "1         1\n",
       "2         1\n",
       "3         0\n",
       "4         0\n",
       "         ..\n",
       "118614    0\n",
       "118615    0\n",
       "118616    0\n",
       "118693    0\n",
       "118695    0\n",
       "Name: info, Length: 46161, dtype: int64"
      ]
     },
     "execution_count": 19,
     "metadata": {
      "tags": []
     },
     "output_type": "execute_result"
    }
   ],
   "source": [
    "Train_y_data"
   ]
  },
  {
   "cell_type": "code",
   "execution_count": 20,
   "metadata": {
    "id": "a7BKwNecyhiP"
   },
   "outputs": [],
   "source": [
    "# tokenizer = 데이터를 토큰화 시키고 정수화 시킨다.\n",
    "tokenizer=Tokenizer()\n",
    "tokenizer.fit_on_texts(Train_x_data)\n",
    "Train_sequences=tokenizer.texts_to_sequences(Train_x_data)\n",
    "\n",
    "# tokenizer.fit_on_texts(Test_x_data)   # 안돼!!!!!!!!\n",
    "Test_sequences=tokenizer.texts_to_sequences(Test_x_data)"
   ]
  },
  {
   "cell_type": "code",
   "execution_count": 21,
   "metadata": {
    "colab": {
     "base_uri": "https://localhost:8080/"
    },
    "id": "J44JzG91y6lo",
    "outputId": "3d5418cc-bc7d-4ee5-d9e4-1ccc76619ab1"
   },
   "outputs": [
    {
     "name": "stdout",
     "output_type": "stream",
     "text": [
      "[[91, 4890, 272, 866, 28, 179, 239, 56811, 976], [56812, 34415, 56813, 68, 765, 24760, 1810, 46, 56814], [4891, 56815, 164, 433, 17, 48, 3777, 731, 474], [910, 56816, 2259, 91, 24761, 19407, 1910], [34416, 782, 34417, 13514, 2393, 927]]\n"
     ]
    }
   ],
   "source": [
    "print(Train_sequences[:5])"
   ]
  },
  {
   "cell_type": "code",
   "execution_count": 22,
   "metadata": {
    "colab": {
     "base_uri": "https://localhost:8080/"
    },
    "id": "YftJt8wuzlui",
    "outputId": "c9d6c20a-550d-4a15-d3b3-acf1c5e4d027"
   },
   "outputs": [
    {
     "name": "stdout",
     "output_type": "stream",
     "text": [
      "163126\n"
     ]
    }
   ],
   "source": [
    "word_to_index=tokenizer.word_index\n",
    "print(len(word_to_index))"
   ]
  },
  {
   "cell_type": "code",
   "execution_count": 23,
   "metadata": {
    "colab": {
     "base_uri": "https://localhost:8080/"
    },
    "id": "k2BGByRfz3Md",
    "outputId": "2899ddd3-a6db-45e3-ca24-a4eb7f9a1c83"
   },
   "outputs": [
    {
     "name": "stdout",
     "output_type": "stream",
     "text": [
      "등장 빈도가 1번 이하인 희귀 단어의 수: 106316\n",
      "단어 집합(vocabulary)에서 희귀 단어의 비율: 65.17415985189363\n",
      "전체 등장 빈도에서 희귀 단어 등장 빈도 비율: 15.518748877869918\n"
     ]
    }
   ],
   "source": [
    "threshold = 2\n",
    "total_cnt = len(word_to_index) # 단어의 수\n",
    "rare_cnt = 0 # 등장 빈도수가 threshold보다 작은 단어의 개수를 카운트\n",
    "total_freq = 0 # 훈련 데이터의 전체 단어 빈도수 총 합\n",
    "rare_freq = 0 # 등장 빈도수가 threshold보다 작은 단어의 등장 빈도수의 총 합\n",
    "\n",
    "# 단어와 빈도수의 쌍(pair)을 key와 value로 받는다.\n",
    "for key, value in tokenizer.word_counts.items():\n",
    "    total_freq = total_freq + value\n",
    "\n",
    "    # 단어의 등장 빈도수가 threshold보다 작으면\n",
    "    if(value < threshold):\n",
    "        rare_cnt = rare_cnt + 1\n",
    "        rare_freq = rare_freq + value\n",
    "\n",
    "print('등장 빈도가 %s번 이하인 희귀 단어의 수: %s'%(threshold - 1, rare_cnt))\n",
    "print(\"단어 집합(vocabulary)에서 희귀 단어의 비율:\", (rare_cnt / total_cnt)*100)\n",
    "print(\"전체 등장 빈도에서 희귀 단어 등장 빈도 비율:\", (rare_freq / total_freq)*100)"
   ]
  },
  {
   "cell_type": "code",
   "execution_count": 24,
   "metadata": {
    "colab": {
     "base_uri": "https://localhost:8080/"
    },
    "id": "odCCROLv2O04",
    "outputId": "311ff59b-d743-4d18-8955-6e71a2e2ceb2"
   },
   "outputs": [
    {
     "name": "stdout",
     "output_type": "stream",
     "text": [
      "단어 집합의 크기: 163127\n"
     ]
    }
   ],
   "source": [
    "vocab_size = len(word_to_index) + 1\n",
    "print('단어 집합의 크기: {}'.format((vocab_size)))"
   ]
  },
  {
   "cell_type": "code",
   "execution_count": 25,
   "metadata": {
    "colab": {
     "base_uri": "https://localhost:8080/",
     "height": 314
    },
    "id": "wM0pDke22gsT",
    "outputId": "c876f093-65cc-475d-ec4d-e7713947a539"
   },
   "outputs": [
    {
     "name": "stdout",
     "output_type": "stream",
     "text": [
      "메일의 최대 길이 : 721\n",
      "메일의 평균 길이 : 14.841121\n"
     ]
    },
    {
     "data": {
      "image/png": "[encoded data removed]",
      "text/plain": [
       "<Figure size 432x288 with 1 Axes>"
      ]
     },
     "metadata": {
      "needs_background": "light",
      "tags": []
     },
     "output_type": "display_data"
    }
   ],
   "source": [
    "Train_data=Train_sequences\n",
    "Test_data=Test_sequences\n",
    "print('메일의 최대 길이 : %d' % max(len(l) for l in Train_data))\n",
    "print('메일의 평균 길이 : %f' % (sum(map(len, Train_data))/len(Train_data)))\n",
    "plt.hist([len(s) for s in Train_data], bins=50)\n",
    "plt.xlabel('length of samples')\n",
    "plt.ylabel('number of samples')\n",
    "plt.show()"
   ]
  },
  {
   "cell_type": "code",
   "execution_count": 26,
   "metadata": {
    "colab": {
     "base_uri": "https://localhost:8080/"
    },
    "id": "xIZ8ZSYT4MHd",
    "outputId": "3cb029b0-aa77-4226-cdc0-b139656db9b5"
   },
   "outputs": [
    {
     "name": "stdout",
     "output_type": "stream",
     "text": [
      "훈련 데이터의 크기 (shape): (46161, 721)\n",
      "테스트 데이터의 크기 (shape): (65827, 721)\n"
     ]
    }
   ],
   "source": [
    "max_len = 721\n",
    "data_train_pad = pad_sequences(Train_data, maxlen = max_len)\n",
    "data_test_pad = pad_sequences(Test_data, maxlen = max_len)\n",
    "print(\"훈련 데이터의 크기 (shape):\", data_train_pad.shape)\n",
    "print(\"테스트 데이터의 크기 (shape):\", data_test_pad.shape)\n",
    "# Train_y_data : label"
   ]
  },
  {
   "cell_type": "code",
   "execution_count": 27,
   "metadata": {
    "id": "ysCfBhEIBLCD"
   },
   "outputs": [],
   "source": [
    "### rnn으로 신문분류하기"
   ]
  },
  {
   "cell_type": "code",
   "execution_count": 28,
   "metadata": {
    "id": "4gwV5gQJBdtS"
   },
   "outputs": [],
   "source": [
    "from tensorflow.keras.layers import SimpleRNN, Embedding, Dense\n",
    "from tensorflow.keras.models import Sequential"
   ]
  },
  {
   "cell_type": "code",
   "execution_count": 30,
   "metadata": {
    "colab": {
     "base_uri": "https://localhost:8080/"
    },
    "id": "_SeUwhIeBf2Q",
    "outputId": "caa457d9-dbb9-4bce-940e-45ae07ea5d83"
   },
   "outputs": [
    {
     "name": "stdout",
     "output_type": "stream",
     "text": [
      "Epoch 1/10\n",
      "577/577 [==============================] - 104s 181ms/step - loss: 0.3469 - acc: 0.8280 - val_loss: 0.1043 - val_acc: 0.9814\n",
      "Epoch 2/10\n",
      "577/577 [==============================] - 103s 178ms/step - loss: 0.1564 - acc: 0.9393 - val_loss: 0.2179 - val_acc: 0.8881\n",
      "Epoch 3/10\n",
      "577/577 [==============================] - 108s 187ms/step - loss: 0.0943 - acc: 0.9655 - val_loss: 0.1795 - val_acc: 0.9226\n",
      "Epoch 4/10\n",
      "577/577 [==============================] - 103s 179ms/step - loss: 0.0499 - acc: 0.9841 - val_loss: 0.1397 - val_acc: 0.9421\n",
      "Epoch 5/10\n",
      "577/577 [==============================] - 103s 179ms/step - loss: 0.0296 - acc: 0.9911 - val_loss: 0.2106 - val_acc: 0.9233\n",
      "Epoch 6/10\n",
      "577/577 [==============================] - 103s 179ms/step - loss: 0.0562 - acc: 0.9794 - val_loss: 0.2455 - val_acc: 0.9131\n",
      "Epoch 7/10\n",
      "577/577 [==============================] - 104s 181ms/step - loss: 0.0209 - acc: 0.9935 - val_loss: 0.2746 - val_acc: 0.9106\n",
      "Epoch 8/10\n",
      "577/577 [==============================] - 104s 179ms/step - loss: 0.0125 - acc: 0.9959 - val_loss: 0.5426 - val_acc: 0.8409\n",
      "Epoch 9/10\n",
      "577/577 [==============================] - 103s 179ms/step - loss: 0.0116 - acc: 0.9964 - val_loss: 0.5067 - val_acc: 0.8563\n",
      "Epoch 10/10\n",
      "577/577 [==============================] - 104s 181ms/step - loss: 0.0066 - acc: 0.9979 - val_loss: 0.5770 - val_acc: 0.8427\n"
     ]
    }
   ],
   "source": [
    "model = Sequential()\n",
    "model.add(Embedding(vocab_size, 32, input_length = max_len)) # 임베딩 벡터의 차원은 32   # (vocab_size, 32, input_length = max_len)\n",
    "model.add(SimpleRNN(32)) # RNN 셀의 hidden_size는 32\n",
    "model.add(Dense(1, activation='sigmoid'))\n",
    "\n",
    "model.compile(optimizer='rmsprop', loss='binary_crossentropy', metrics=['acc'])\n",
    "history = model.fit(data_train_pad, Train_y_data, epochs=10, batch_size=64, validation_split=0.2)"
   ]
  },
  {
   "cell_type": "code",
   "execution_count": 31,
   "metadata": {
    "id": "NYsHL8AwodZm"
   },
   "outputs": [],
   "source": [
    "y_pred = model.predict(data_test_pad)"
   ]
  },
  {
   "cell_type": "code",
   "execution_count": 35,
   "metadata": {
    "colab": {
     "base_uri": "https://localhost:8080/"
    },
    "id": "BneBVOWoIaFg",
    "outputId": "1d737777-0639-4d46-e340-937a634b9059"
   },
   "outputs": [
    {
     "data": {
      "text/plain": [
       "array([0.09295353], dtype=float32)"
      ]
     },
     "execution_count": 35,
     "metadata": {
      "tags": []
     },
     "output_type": "execute_result"
    }
   ],
   "source": [
    "y_pred[0]"
   ]
  },
  {
   "cell_type": "code",
   "execution_count": 36,
   "metadata": {
    "colab": {
     "base_uri": "https://localhost:8080/",
     "height": 169
    },
    "id": "4cr6Ev84BkeH",
    "outputId": "8da53e76-d0ab-4a08-b323-3f7eeb05e032"
   },
   "outputs": [
    {
     "ename": "NameError",
     "evalue": "ignored",
     "output_type": "error",
     "traceback": [
      "\u001b[0;31m---------------------------------------------------------------------------\u001b[0m",
      "\u001b[0;31mNameError\u001b[0m                                 Traceback (most recent call last)",
      "\u001b[0;32m<ipython-input-36-868c9cd7d0c1>\u001b[0m in \u001b[0;36m<module>\u001b[0;34m()\u001b[0m\n\u001b[0;32m----> 1\u001b[0;31m \u001b[0mprint\u001b[0m\u001b[0;34m(\u001b[0m\u001b[0;34m\"\\n 테스트 정확도: %.4f\"\u001b[0m \u001b[0;34m%\u001b[0m \u001b[0;34m(\u001b[0m\u001b[0mmodel\u001b[0m\u001b[0;34m.\u001b[0m\u001b[0mevaluate\u001b[0m\u001b[0;34m(\u001b[0m\u001b[0mdata_test_pad\u001b[0m\u001b[0;34m,\u001b[0m \u001b[0my_test\u001b[0m\u001b[0;34m)\u001b[0m\u001b[0;34m[\u001b[0m\u001b[0;36m1\u001b[0m\u001b[0;34m]\u001b[0m\u001b[0;34m)\u001b[0m\u001b[0;34m)\u001b[0m    \u001b[0;31m# ????\u001b[0m\u001b[0;34m\u001b[0m\u001b[0;34m\u001b[0m\u001b[0m\n\u001b[0m",
      "\u001b[0;31mNameError\u001b[0m: name 'y_test' is not defined"
     ]
    }
   ],
   "source": [
    "print(\"\\n 테스트 정확도: %.4f\" % (model.evaluate(data_test_pad, y_test)[1]))    # ????"
   ]
  },
  {
   "cell_type": "code",
   "execution_count": 84,
   "metadata": {
    "colab": {
     "base_uri": "https://localhost:8080/",
     "height": 295
    },
    "id": "yiRZk70TGquP",
    "outputId": "1b4f3178-e23d-49b3-92fa-a9a0a4a6ff95"
   },
   "outputs": [
    {
     "data": {
      "image/png": "[encoded data removed]",
      "text/plain": [
       "<Figure size 432x288 with 1 Axes>"
      ]
     },
     "metadata": {
      "needs_background": "light",
      "tags": []
     },
     "output_type": "display_data"
    }
   ],
   "source": [
    "epochs = range(1, len(history.history['acc']) + 1)\n",
    "plt.plot(epochs, history.history['loss'])\n",
    "plt.plot(epochs, history.history['val_loss'])\n",
    "plt.title('model loss')\n",
    "plt.ylabel('loss')\n",
    "plt.xlabel('epoch')\n",
    "plt.legend(['train', 'val'], loc='upper left')\n",
    "plt.show()"
   ]
  },
  {
   "cell_type": "code",
   "execution_count": null,
   "metadata": {
    "id": "BkofsXhnG0IU"
   },
   "outputs": [],
   "source": []
  }
 ],
 "metadata": {
  "colab": {
   "collapsed_sections": [],
   "name": "NH_competition.ipynb",
   "provenance": []
  },
  "kernelspec": {
   "display_name": "Python 3",
   "language": "python",
   "name": "python3"
  },
  "language_info": {
   "codemirror_mode": {
    "name": "ipython",
    "version": 3
   },
   "file_extension": ".py",
   "mimetype": "text/x-python",
   "name": "python",
   "nbconvert_exporter": "python",
   "pygments_lexer": "ipython3",
   "version": "3.7.4"
  }
 },
 "nbformat": 4,
 "nbformat_minor": 1
}
