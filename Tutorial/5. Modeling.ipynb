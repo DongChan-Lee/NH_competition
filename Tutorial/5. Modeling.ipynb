{
  "nbformat": 4,
  "nbformat_minor": 0,
  "metadata": {
    "colab": {
      "name": "5. Modeling.ipynb",
      "provenance": [],
      "collapsed_sections": []
    },
    "kernelspec": {
      "name": "python3",
      "display_name": "Python 3"
    }
  },
  "cells": [
    {
      "cell_type": "code",
      "metadata": {
        "id": "DKkMFnZjtPWq"
      },
      "source": [
        "%matplotlib inline\r\n",
        "import matplotlib.pyplot as plt"
      ],
      "execution_count": 1,
      "outputs": []
    },
    {
      "cell_type": "code",
      "metadata": {
        "id": "Acu-SKVaK03i"
      },
      "source": [
        "import os\r\n",
        "os.getcwd()\r\n",
        "os.chdir('drive/MyDrive/NLP/Dacon_NH competition/')"
      ],
      "execution_count": 2,
      "outputs": []
    },
    {
      "cell_type": "code",
      "metadata": {
        "colab": {
          "base_uri": "https://localhost:8080/",
          "height": 279
        },
        "id": "Z--H5l6TmGTY",
        "outputId": "6c7d8118-7f68-453d-eb31-b03e6aac0862"
      },
      "source": [
        "import pandas as pd\r\n",
        "\r\n",
        "train = pd.read_csv('data/news_train_preprocessing_Mecab(all_alphabet).csv')\r\n",
        "train.head()"
      ],
      "execution_count": 3,
      "outputs": [
        {
          "output_type": "execute_result",
          "data": {
            "text/html": [
              "<div>\n",
              "<style scoped>\n",
              "    .dataframe tbody tr th:only-of-type {\n",
              "        vertical-align: middle;\n",
              "    }\n",
              "\n",
              "    .dataframe tbody tr th {\n",
              "        vertical-align: top;\n",
              "    }\n",
              "\n",
              "    .dataframe thead th {\n",
              "        text-align: right;\n",
              "    }\n",
              "</style>\n",
              "<table border=\"1\" class=\"dataframe\">\n",
              "  <thead>\n",
              "    <tr style=\"text-align: right;\">\n",
              "      <th></th>\n",
              "      <th>n_id</th>\n",
              "      <th>date</th>\n",
              "      <th>title</th>\n",
              "      <th>content</th>\n",
              "      <th>ord</th>\n",
              "      <th>info</th>\n",
              "      <th>new_article</th>\n",
              "      <th>text</th>\n",
              "    </tr>\n",
              "  </thead>\n",
              "  <tbody>\n",
              "    <tr>\n",
              "      <th>0</th>\n",
              "      <td>NEWS02580</td>\n",
              "      <td>20200605</td>\n",
              "      <td>[마감]코스닥 기관 678억 순매도</td>\n",
              "      <td>[이데일리 MARKETPOINT]15:32 현재 코스닥 기관 678억 순매도</td>\n",
              "      <td>1</td>\n",
              "      <td>0</td>\n",
              "      <td>['이데일리', 'MARKETPOINT', '현재', '코스닥', '기관', '억'...</td>\n",
              "      <td>이데일리 MARKETPOINT 현재 코스닥 기관 억 순매도</td>\n",
              "    </tr>\n",
              "    <tr>\n",
              "      <th>1</th>\n",
              "      <td>NEWS02580</td>\n",
              "      <td>20200605</td>\n",
              "      <td>[마감]코스닥 기관 678억 순매도</td>\n",
              "      <td>\"실적기반\" 저가에 매집해야 할 8월 급등유망주 TOP 5 전격공개</td>\n",
              "      <td>2</td>\n",
              "      <td>1</td>\n",
              "      <td>['실적', '기반', '저가', '에', '매집', '해야', '할', '월', ...</td>\n",
              "      <td>실적 기반 저가 에 매집 해야 할 월 급등 유망주 TOP 전격 공개</td>\n",
              "    </tr>\n",
              "    <tr>\n",
              "      <th>2</th>\n",
              "      <td>NEWS02580</td>\n",
              "      <td>20200605</td>\n",
              "      <td>[마감]코스닥 기관 678억 순매도</td>\n",
              "      <td>하이스탁론, 선취수수료 없는 월 0.4% 최저금리 상품 출시</td>\n",
              "      <td>3</td>\n",
              "      <td>1</td>\n",
              "      <td>['하이스', '탁론', '선취', '수수료', '없', '는', '월', '최저'...</td>\n",
              "      <td>하이스 탁론 선취 수수료 없 는 월 최저 금리 상품 출시</td>\n",
              "    </tr>\n",
              "    <tr>\n",
              "      <th>3</th>\n",
              "      <td>NEWS02580</td>\n",
              "      <td>20200605</td>\n",
              "      <td>[마감]코스닥 기관 678억 순매도</td>\n",
              "      <td>종합 경제정보 미디어 이데일리 - 무단전재 &amp; 재배포 금지</td>\n",
              "      <td>4</td>\n",
              "      <td>0</td>\n",
              "      <td>['종합', '경제', '정보', '미디어', '이데일리', '무단', '전재', ...</td>\n",
              "      <td>종합 경제 정보 미디어 이데일리 무단 전재 재 배포 금지</td>\n",
              "    </tr>\n",
              "    <tr>\n",
              "      <th>4</th>\n",
              "      <td>NEWS09727</td>\n",
              "      <td>20200626</td>\n",
              "      <td>롯데·공영 등 7개 TV 홈쇼핑들, 동행세일 동참</td>\n",
              "      <td>전국적인 소비 붐 조성에 기여할 예정</td>\n",
              "      <td>1</td>\n",
              "      <td>0</td>\n",
              "      <td>['전국', '적', '인', '소비', '붐', '조성', '에', '기여', '...</td>\n",
              "      <td>전국 적 인 소비 붐 조성 에 기여 할 예정</td>\n",
              "    </tr>\n",
              "  </tbody>\n",
              "</table>\n",
              "</div>"
            ],
            "text/plain": [
              "        n_id  ...                                   text\n",
              "0  NEWS02580  ...       이데일리 MARKETPOINT 현재 코스닥 기관 억 순매도\n",
              "1  NEWS02580  ...  실적 기반 저가 에 매집 해야 할 월 급등 유망주 TOP 전격 공개\n",
              "2  NEWS02580  ...        하이스 탁론 선취 수수료 없 는 월 최저 금리 상품 출시\n",
              "3  NEWS02580  ...        종합 경제 정보 미디어 이데일리 무단 전재 재 배포 금지\n",
              "4  NEWS09727  ...               전국 적 인 소비 붐 조성 에 기여 할 예정\n",
              "\n",
              "[5 rows x 8 columns]"
            ]
          },
          "metadata": {
            "tags": []
          },
          "execution_count": 3
        }
      ]
    },
    {
      "cell_type": "code",
      "metadata": {
        "id": "-jRsDQfdoMgR"
      },
      "source": [
        "null_index = train[train['text'].isna()].index"
      ],
      "execution_count": 4,
      "outputs": []
    },
    {
      "cell_type": "code",
      "metadata": {
        "colab": {
          "base_uri": "https://localhost:8080/"
        },
        "id": "WFKrSlIRoMgW",
        "outputId": "274cbf88-6c27-466e-e33c-fcffdb26eb3b"
      },
      "source": [
        "train.info()"
      ],
      "execution_count": 5,
      "outputs": [
        {
          "output_type": "stream",
          "text": [
            "<class 'pandas.core.frame.DataFrame'>\n",
            "RangeIndex: 118745 entries, 0 to 118744\n",
            "Data columns (total 8 columns):\n",
            " #   Column       Non-Null Count   Dtype \n",
            "---  ------       --------------   ----- \n",
            " 0   n_id         118745 non-null  object\n",
            " 1   date         118745 non-null  int64 \n",
            " 2   title        118745 non-null  object\n",
            " 3   content      118745 non-null  object\n",
            " 4   ord          118745 non-null  int64 \n",
            " 5   info         118745 non-null  int64 \n",
            " 6   new_article  118745 non-null  object\n",
            " 7   text         118665 non-null  object\n",
            "dtypes: int64(3), object(5)\n",
            "memory usage: 7.2+ MB\n"
          ],
          "name": "stdout"
        }
      ]
    },
    {
      "cell_type": "code",
      "metadata": {
        "id": "ctBnNRtZoMgY"
      },
      "source": [
        "train = train.fillna('')"
      ],
      "execution_count": 6,
      "outputs": []
    },
    {
      "cell_type": "code",
      "metadata": {
        "colab": {
          "base_uri": "https://localhost:8080/"
        },
        "id": "e6AlB9NWoxqI",
        "outputId": "04f41357-8080-4df2-e41b-0f9db8af23e6"
      },
      "source": [
        "train.iloc[null_index, 5].value_counts()    # text가 NaN값인 행의 'info' 정보 살펴보기"
      ],
      "execution_count": 7,
      "outputs": [
        {
          "output_type": "execute_result",
          "data": {
            "text/plain": [
              "0    79\n",
              "1     1\n",
              "Name: info, dtype: int64"
            ]
          },
          "metadata": {
            "tags": []
          },
          "execution_count": 7
        }
      ]
    },
    {
      "cell_type": "code",
      "metadata": {
        "colab": {
          "base_uri": "https://localhost:8080/"
        },
        "id": "Waybr7r8n5_f",
        "outputId": "9ac1596d-7955-4bd2-ae86-6f2a6283bf3f"
      },
      "source": [
        "from tensorflow.keras.preprocessing.text import Tokenizer\r\n",
        "from tensorflow.keras.preprocessing.sequence import pad_sequences\r\n",
        "\r\n",
        "token_list = [t.split(' ') for t in train['text']]\r\n",
        "\r\n",
        "def text2sequence(train_text, max_len=100):   # 여기 max_len에 가장 긴 문장의 길이를 넣기\r\n",
        "  tokenizer = Tokenizer()                                   # keras의 vectorizing 함수 호출\r\n",
        "  tokenizer.fit_on_texts(train_text)                        # train 문장에 fit\r\n",
        "  train_X_seq = tokenizer.texts_to_sequences(train_text)    # 각 토큰들에 정수값 부여\r\n",
        "  vocabulary = tokenizer.word_index\r\n",
        "  vocab_size = len(tokenizer.word_index) + 1                # 모델에 알려줄 vocabulary의 크기 계산(padding값 0을 포함해야 하므로 +1)\r\n",
        "  print('vocab_size : ', vocab_size)\r\n",
        "  X_train = pad_sequences(train_X_seq, maxlen = max_len)    # 설정한 문장의 최대 길이만큼 padding\r\n",
        "\r\n",
        "  return X_train, vocabulary, vocab_size, tokenizer\r\n",
        "\r\n",
        "train_y = train['info']\r\n",
        "train_X, vocabulary, vocab_size, vectorizer = text2sequence(token_list, max_len = 100)\r\n",
        "print(train_X.shape, train_y.shape) "
      ],
      "execution_count": 9,
      "outputs": [
        {
          "output_type": "stream",
          "text": [
            "vocab_size :  41725\n",
            "(118745, 100) (118745,)\n"
          ],
          "name": "stdout"
        }
      ]
    },
    {
      "cell_type": "code",
      "metadata": {
        "id": "nhlQT4PZpCtE"
      },
      "source": [
        "import numpy as np\r\n",
        "import gensim\r\n",
        "\r\n",
        "word2vec = gensim.models.KeyedVectors.load_word2vec_format('GoogleNews-vectors-negative300.bin.gz', binary = True)\r\n",
        "embedding_matrix = np.zeros((vocab_size, 300))     # 300차원의 임베딩 매트릭스 생성\r\n",
        "cnt = 0\r\n",
        "\r\n",
        "for index, word in enumerate(vocabulary):          # vocabulary에 있는 토큰들을 하나씩 넘김\r\n",
        "  if word in word2vec:                             # 넘겨받은 토큰이 word2vec에 존재하면(이미 훈련이 된 토큰이라는 의미)\r\n",
        "    embedding_vector = word2vec[word]              # 해당 토큰에 해당하는 vector를 불러오고\r\n",
        "    embedding_matrix[index] = embedding_vector     # 해당 위치의 embedding_matrix에 저장\r\n",
        "  else:\r\n",
        "    cnt += 1\r\n",
        "    # print(\"word2vec에 없는 단어입니다.\")\r\n",
        "    continue"
      ],
      "execution_count": 16,
      "outputs": []
    },
    {
      "cell_type": "code",
      "metadata": {
        "colab": {
          "base_uri": "https://localhost:8080/"
        },
        "id": "9yf3Ymz3qamp",
        "outputId": "9ba083da-4354-42b9-9ab1-5505d6860244"
      },
      "source": [
        "print(cnt)"
      ],
      "execution_count": 17,
      "outputs": [
        {
          "output_type": "stream",
          "text": [
            "38906\n"
          ],
          "name": "stdout"
        }
      ]
    },
    {
      "cell_type": "code",
      "metadata": {
        "colab": {
          "base_uri": "https://localhost:8080/"
        },
        "id": "Jn8Fscr0qcoc",
        "outputId": "75c48112-18dc-4a09-f1fc-372946755f70"
      },
      "source": [
        "from tensorflow.keras.models import Sequential\r\n",
        "from tensorflow.keras.layers import Embedding, SpatialDropout1D, LSTM, Dropout, Dense\r\n",
        "from tensorflow.keras import regularizers\r\n",
        "\r\n",
        "max_len = 100\r\n",
        "\r\n",
        "model = Sequential()\r\n",
        "model.add(Embedding(vocab_size, 300, weights = [embedding_matrix], input_length = max_len))  # 임베딩 가중치 적용 코드\r\n",
        "model.add(SpatialDropout1D(0.3))\r\n",
        "model.add(LSTM(64))\r\n",
        "model.add(Dropout(0.5))\r\n",
        "model.add(Dense(64, activation='relu', kernel_regularizer = regularizers.l2(0.001)))\r\n",
        "model.add(Dense(1, activation='sigmoid'))\r\n",
        "model.compile(optimizer='adam', loss='binary_crossentropy', metrics='accuracy')\r\n",
        "print(model.summary())\r\n",
        "\r\n",
        "history = model.fit(train_X, train_y, epochs=5, batch_size=64, validation_split=0.2)"
      ],
      "execution_count": 21,
      "outputs": [
        {
          "output_type": "stream",
          "text": [
            "Model: \"sequential_3\"\n",
            "_________________________________________________________________\n",
            "Layer (type)                 Output Shape              Param #   \n",
            "=================================================================\n",
            "embedding_2 (Embedding)      (None, 100, 300)          12517200  \n",
            "_________________________________________________________________\n",
            "spatial_dropout1d_1 (Spatial (None, 100, 300)          0         \n",
            "_________________________________________________________________\n",
            "lstm_1 (LSTM)                (None, 64)                93440     \n",
            "_________________________________________________________________\n",
            "dropout_1 (Dropout)          (None, 64)                0         \n",
            "_________________________________________________________________\n",
            "dense (Dense)                (None, 64)                4160      \n",
            "_________________________________________________________________\n",
            "dense_1 (Dense)              (None, 1)                 65        \n",
            "=================================================================\n",
            "Total params: 12,614,865\n",
            "Trainable params: 12,614,865\n",
            "Non-trainable params: 0\n",
            "_________________________________________________________________\n",
            "None\n",
            "Epoch 1/5\n",
            "1484/1484 [==============================] - 458s 307ms/step - loss: 0.1723 - accuracy: 0.9405 - val_loss: 0.0516 - val_accuracy: 0.9783\n",
            "Epoch 2/5\n",
            "1484/1484 [==============================] - 453s 305ms/step - loss: 0.0283 - accuracy: 0.9918 - val_loss: 0.0657 - val_accuracy: 0.9747\n",
            "Epoch 3/5\n",
            "1484/1484 [==============================] - 455s 306ms/step - loss: 0.0129 - accuracy: 0.9971 - val_loss: 0.0916 - val_accuracy: 0.9730\n",
            "Epoch 4/5\n",
            "1484/1484 [==============================] - 455s 307ms/step - loss: 0.0083 - accuracy: 0.9977 - val_loss: 0.0847 - val_accuracy: 0.9786\n",
            "Epoch 5/5\n",
            "1484/1484 [==============================] - 456s 307ms/step - loss: 0.0050 - accuracy: 0.9987 - val_loss: 0.0893 - val_accuracy: 0.9789\n"
          ],
          "name": "stdout"
        }
      ]
    },
    {
      "cell_type": "code",
      "metadata": {
        "colab": {
          "base_uri": "https://localhost:8080/",
          "height": 295
        },
        "id": "mlJ-nrrXq7Hs",
        "outputId": "1a9fb4f4-7a70-4116-b783-d27ec3a032a0"
      },
      "source": [
        "epochs = range(1, len(history.history['accuracy']) + 1)\r\n",
        "plt.plot(epochs, history.history['loss'])\r\n",
        "plt.plot(epochs, history.history['val_loss'])\r\n",
        "plt.title('model loss')\r\n",
        "plt.ylabel('loss')\r\n",
        "plt.xlabel('epoch')\r\n",
        "plt.legend(['train', 'val'], loc='upper left')\r\n",
        "plt.show()"
      ],
      "execution_count": 25,
      "outputs": [
        {
          "output_type": "display_data",
          "data": {
            "image/png": "[encoded data removed]",
            "text/plain": [
              "<Figure size 432x288 with 1 Axes>"
            ]
          },
          "metadata": {
            "tags": [],
            "needs_background": "light"
          }
        }
      ]
    },
    {
      "cell_type": "code",
      "metadata": {
        "colab": {
          "base_uri": "https://localhost:8080/",
          "height": 279
        },
        "id": "dl27YFCXu_Ok",
        "outputId": "e62fbf13-7f03-40a9-9592-a62b0ce55075"
      },
      "source": [
        "test = pd.read_csv('data/news_test_preprocessing_Mecab(all_alphabet).csv')\r\n",
        "test.head()"
      ],
      "execution_count": 69,
      "outputs": [
        {
          "output_type": "execute_result",
          "data": {
            "text/html": [
              "<div>\n",
              "<style scoped>\n",
              "    .dataframe tbody tr th:only-of-type {\n",
              "        vertical-align: middle;\n",
              "    }\n",
              "\n",
              "    .dataframe tbody tr th {\n",
              "        vertical-align: top;\n",
              "    }\n",
              "\n",
              "    .dataframe thead th {\n",
              "        text-align: right;\n",
              "    }\n",
              "</style>\n",
              "<table border=\"1\" class=\"dataframe\">\n",
              "  <thead>\n",
              "    <tr style=\"text-align: right;\">\n",
              "      <th></th>\n",
              "      <th>n_id</th>\n",
              "      <th>date</th>\n",
              "      <th>title</th>\n",
              "      <th>content</th>\n",
              "      <th>ord</th>\n",
              "      <th>id</th>\n",
              "      <th>new_article</th>\n",
              "      <th>text</th>\n",
              "    </tr>\n",
              "  </thead>\n",
              "  <tbody>\n",
              "    <tr>\n",
              "      <th>0</th>\n",
              "      <td>NEWS00237</td>\n",
              "      <td>20200118</td>\n",
              "      <td>[주목!e스몰캡]코세스, 마이크로LED 시장 개화 최대수혜 기대</td>\n",
              "      <td>마이크로 LED TV 장비 양산 돌입- 전방업체 투자 확대로 본업도 호조연일 '신고가'</td>\n",
              "      <td>1</td>\n",
              "      <td>NEWS00237_1</td>\n",
              "      <td>['마이크로LED', 'TV', '장비', '양산', '돌입', '전방', '업체'...</td>\n",
              "      <td>마이크로LED TV 장비 양산 돌입 전방 업체 투자 확대 로 본업 도 호조 연일 신고 가</td>\n",
              "    </tr>\n",
              "    <tr>\n",
              "      <th>1</th>\n",
              "      <td>NEWS00237</td>\n",
              "      <td>20200118</td>\n",
              "      <td>[주목!e스몰캡]코세스, 마이크로LED 시장 개화 최대수혜 기대</td>\n",
              "      <td>[이데일리 김대웅 기자] 반도체 장비 업체 코세스(089890)의 기술력이 마이크로...</td>\n",
              "      <td>2</td>\n",
              "      <td>NEWS00237_2</td>\n",
              "      <td>['이데일리', '김대웅', '기자', '반도체장비', '업체', '코', '세스'...</td>\n",
              "      <td>이데일리 김대웅 기자 반도체장비 업체 코 세스 의 기술력 이 마이크로 발광다이오드 ...</td>\n",
              "    </tr>\n",
              "    <tr>\n",
              "      <th>2</th>\n",
              "      <td>NEWS00237</td>\n",
              "      <td>20200118</td>\n",
              "      <td>[주목!e스몰캡]코세스, 마이크로LED 시장 개화 최대수혜 기대</td>\n",
              "      <td>최근 대형 업체들과 거래를 맺고 관련 장비들의 양산에 돌입하면서 주가도 연일 신고가...</td>\n",
              "      <td>3</td>\n",
              "      <td>NEWS00237_3</td>\n",
              "      <td>['최근', '대형업체', '들', '과', '거래', '를', '맺', '고', ...</td>\n",
              "      <td>최근 대형업체 들 과 거래 를 맺 고 관련 장비 들 의 양산 에 돌입 하 면서 주가...</td>\n",
              "    </tr>\n",
              "    <tr>\n",
              "      <th>3</th>\n",
              "      <td>NEWS00237</td>\n",
              "      <td>20200118</td>\n",
              "      <td>[주목!e스몰캡]코세스, 마이크로LED 시장 개화 최대수혜 기대</td>\n",
              "      <td>TV를 필두로 올해부터 마이크로 LED의 시대가 본격적으로 개화할 것으로 예상되면서...</td>\n",
              "      <td>4</td>\n",
              "      <td>NEWS00237_4</td>\n",
              "      <td>['TV', '를', '필두', '로', '올해', '부터', '마이크로LED', ...</td>\n",
              "      <td>TV 를 필두 로 올해 부터 마이크로LED 의 시대 가 본격 적 으로 개 화 할 것...</td>\n",
              "    </tr>\n",
              "    <tr>\n",
              "      <th>4</th>\n",
              "      <td>NEWS00237</td>\n",
              "      <td>20200118</td>\n",
              "      <td>[주목!e스몰캡]코세스, 마이크로LED 시장 개화 최대수혜 기대</td>\n",
              "      <td>코세스는 반도체 장비를 제조, 판매하는 업체로 지난 2006년 11월 코스닥 시장에...</td>\n",
              "      <td>5</td>\n",
              "      <td>NEWS00237_5</td>\n",
              "      <td>['코', '세스', '는', '반도체장비', '를', '제조', '판매', '하'...</td>\n",
              "      <td>코 세스 는 반도체장비 를 제조 판매 하 는 업체 로 지난 년 월 코스닥 시장 에 ...</td>\n",
              "    </tr>\n",
              "  </tbody>\n",
              "</table>\n",
              "</div>"
            ],
            "text/plain": [
              "        n_id  ...                                               text\n",
              "0  NEWS00237  ...  마이크로LED TV 장비 양산 돌입 전방 업체 투자 확대 로 본업 도 호조 연일 신고 가\n",
              "1  NEWS00237  ...  이데일리 김대웅 기자 반도체장비 업체 코 세스 의 기술력 이 마이크로 발광다이오드 ...\n",
              "2  NEWS00237  ...  최근 대형업체 들 과 거래 를 맺 고 관련 장비 들 의 양산 에 돌입 하 면서 주가...\n",
              "3  NEWS00237  ...  TV 를 필두 로 올해 부터 마이크로LED 의 시대 가 본격 적 으로 개 화 할 것...\n",
              "4  NEWS00237  ...  코 세스 는 반도체장비 를 제조 판매 하 는 업체 로 지난 년 월 코스닥 시장 에 ...\n",
              "\n",
              "[5 rows x 8 columns]"
            ]
          },
          "metadata": {
            "tags": []
          },
          "execution_count": 69
        }
      ]
    },
    {
      "cell_type": "code",
      "metadata": {
        "id": "2huGPqHK-JlS"
      },
      "source": [
        "null_index_test = test[test['text'].isna()].index"
      ],
      "execution_count": 72,
      "outputs": []
    },
    {
      "cell_type": "code",
      "metadata": {
        "colab": {
          "base_uri": "https://localhost:8080/"
        },
        "id": "u5Tgz0CA7rSW",
        "outputId": "a0ea209a-bf63-4f22-e3ce-a0c4b55e6a08"
      },
      "source": [
        "test.info()"
      ],
      "execution_count": 57,
      "outputs": [
        {
          "output_type": "stream",
          "text": [
            "<class 'pandas.core.frame.DataFrame'>\n",
            "RangeIndex: 142565 entries, 0 to 142564\n",
            "Data columns (total 8 columns):\n",
            " #   Column       Non-Null Count   Dtype \n",
            "---  ------       --------------   ----- \n",
            " 0   n_id         142565 non-null  object\n",
            " 1   date         142565 non-null  int64 \n",
            " 2   title        142565 non-null  object\n",
            " 3   content      142565 non-null  object\n",
            " 4   ord          142565 non-null  int64 \n",
            " 5   id           142565 non-null  object\n",
            " 6   new_article  142565 non-null  object\n",
            " 7   text         142467 non-null  object\n",
            "dtypes: int64(2), object(6)\n",
            "memory usage: 8.7+ MB\n"
          ],
          "name": "stdout"
        }
      ]
    },
    {
      "cell_type": "code",
      "metadata": {
        "id": "kpcRakah5dpD"
      },
      "source": [
        "test = test.fillna('')"
      ],
      "execution_count": 60,
      "outputs": []
    },
    {
      "cell_type": "code",
      "metadata": {
        "colab": {
          "base_uri": "https://localhost:8080/"
        },
        "id": "LR-IzEb7v0GI",
        "outputId": "7af6d7ce-7085-46ed-c943-f17707128467"
      },
      "source": [
        "token_list_test = [t.split(' ') for t in test['text']]\r\n",
        "\r\n",
        "test_X_seq = vectorizer.texts_to_sequences(token_list_test)    # 각 토큰들에 정수값 부여\r\n",
        "X_test = pad_sequences(test_X_seq, maxlen = max_len)           # 설정한 문장의 최대 길이만큼 padding\r\n",
        "\r\n",
        "print(X_test.shape) "
      ],
      "execution_count": 64,
      "outputs": [
        {
          "output_type": "stream",
          "text": [
            "(142565, 100)\n"
          ],
          "name": "stdout"
        }
      ]
    },
    {
      "cell_type": "code",
      "metadata": {
        "id": "GR5veTLMuHtE"
      },
      "source": [
        "submission_data = pd.read_csv('data/sample_submission.csv')\r\n",
        "\r\n",
        "pred_test = model.predict(X_test)\r\n",
        "submission_data.loc[:,'info'] = np.where(pred_test > 0.5, 1,0).reshape(-1)"
      ],
      "execution_count": 65,
      "outputs": []
    },
    {
      "cell_type": "code",
      "metadata": {
        "colab": {
          "base_uri": "https://localhost:8080/"
        },
        "id": "kiwFMqiY9pfL",
        "outputId": "28cfa36d-6d81-45bd-a09f-362714b23398"
      },
      "source": [
        "submission_data.iloc[null_index_test, -1].value_counts()"
      ],
      "execution_count": 74,
      "outputs": [
        {
          "output_type": "execute_result",
          "data": {
            "text/plain": [
              "0    98\n",
              "Name: info, dtype: int64"
            ]
          },
          "metadata": {
            "tags": []
          },
          "execution_count": 74
        }
      ]
    },
    {
      "cell_type": "code",
      "metadata": {
        "colab": {
          "base_uri": "https://localhost:8080/",
          "height": 402
        },
        "id": "VJLa5R1i9RFe",
        "outputId": "48bf7cb0-c61b-4068-b4ed-83ea0a470ef6"
      },
      "source": [
        "submission_data.to_csv(\"submission_data_chan.csv\", index = False)\r\n",
        "submission_data"
      ],
      "execution_count": 67,
      "outputs": [
        {
          "output_type": "execute_result",
          "data": {
            "text/html": [
              "<div>\n",
              "<style scoped>\n",
              "    .dataframe tbody tr th:only-of-type {\n",
              "        vertical-align: middle;\n",
              "    }\n",
              "\n",
              "    .dataframe tbody tr th {\n",
              "        vertical-align: top;\n",
              "    }\n",
              "\n",
              "    .dataframe thead th {\n",
              "        text-align: right;\n",
              "    }\n",
              "</style>\n",
              "<table border=\"1\" class=\"dataframe\">\n",
              "  <thead>\n",
              "    <tr style=\"text-align: right;\">\n",
              "      <th></th>\n",
              "      <th>id</th>\n",
              "      <th>info</th>\n",
              "    </tr>\n",
              "  </thead>\n",
              "  <tbody>\n",
              "    <tr>\n",
              "      <th>0</th>\n",
              "      <td>NEWS00237_1</td>\n",
              "      <td>1</td>\n",
              "    </tr>\n",
              "    <tr>\n",
              "      <th>1</th>\n",
              "      <td>NEWS00237_2</td>\n",
              "      <td>0</td>\n",
              "    </tr>\n",
              "    <tr>\n",
              "      <th>2</th>\n",
              "      <td>NEWS00237_3</td>\n",
              "      <td>0</td>\n",
              "    </tr>\n",
              "    <tr>\n",
              "      <th>3</th>\n",
              "      <td>NEWS00237_4</td>\n",
              "      <td>0</td>\n",
              "    </tr>\n",
              "    <tr>\n",
              "      <th>4</th>\n",
              "      <td>NEWS00237_5</td>\n",
              "      <td>0</td>\n",
              "    </tr>\n",
              "    <tr>\n",
              "      <th>...</th>\n",
              "      <td>...</td>\n",
              "      <td>...</td>\n",
              "    </tr>\n",
              "    <tr>\n",
              "      <th>142560</th>\n",
              "      <td>NEWS09482_72</td>\n",
              "      <td>1</td>\n",
              "    </tr>\n",
              "    <tr>\n",
              "      <th>142561</th>\n",
              "      <td>NEWS09482_73</td>\n",
              "      <td>1</td>\n",
              "    </tr>\n",
              "    <tr>\n",
              "      <th>142562</th>\n",
              "      <td>NEWS09482_74</td>\n",
              "      <td>1</td>\n",
              "    </tr>\n",
              "    <tr>\n",
              "      <th>142563</th>\n",
              "      <td>NEWS09482_75</td>\n",
              "      <td>1</td>\n",
              "    </tr>\n",
              "    <tr>\n",
              "      <th>142564</th>\n",
              "      <td>NEWS09482_76</td>\n",
              "      <td>1</td>\n",
              "    </tr>\n",
              "  </tbody>\n",
              "</table>\n",
              "<p>142565 rows × 2 columns</p>\n",
              "</div>"
            ],
            "text/plain": [
              "                  id  info\n",
              "0        NEWS00237_1     1\n",
              "1        NEWS00237_2     0\n",
              "2        NEWS00237_3     0\n",
              "3        NEWS00237_4     0\n",
              "4        NEWS00237_5     0\n",
              "...              ...   ...\n",
              "142560  NEWS09482_72     1\n",
              "142561  NEWS09482_73     1\n",
              "142562  NEWS09482_74     1\n",
              "142563  NEWS09482_75     1\n",
              "142564  NEWS09482_76     1\n",
              "\n",
              "[142565 rows x 2 columns]"
            ]
          },
          "metadata": {
            "tags": []
          },
          "execution_count": 67
        }
      ]
    }
  ]
}